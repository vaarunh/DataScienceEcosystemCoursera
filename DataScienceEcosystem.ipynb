{
  "nbformat": 4,
  "nbformat_minor": 0,
  "metadata": {
    "colab": {
      "provenance": []
    },
    "kernelspec": {
      "name": "python3",
      "display_name": "Python 3"
    },
    "language_info": {
      "name": "python"
    }
  },
  "cells": [
    {
      "cell_type": "markdown",
      "source": [
        "# Data Science Tools and Ecosystem"
      ],
      "metadata": {
        "id": "9b28FByS--NP"
      }
    },
    {
      "cell_type": "markdown",
      "source": [
        "In this notebook, Data Science Tools and Ecosystem are summarized."
      ],
      "metadata": {
        "id": "4TonZWl__en2"
      }
    },
    {
      "cell_type": "markdown",
      "source": [
        "Some of the popular languages that Data Scientists use are:\n",
        "\n",
        "\n",
        "1. Python\n",
        "2. R Language\n",
        "3. SQL\n",
        "4. JavaScript\n",
        "\n",
        "\n"
      ],
      "metadata": {
        "id": "3ijtz6PT_mwo"
      }
    },
    {
      "cell_type": "markdown",
      "source": [
        "Some of the commonly used libraries used by Data Scientists include:\n",
        "1. NUMPY\n",
        "2. Matplotlib\n",
        "3. Pandas\n",
        "4. PyTorch\n",
        "5. SciPy\n"
      ],
      "metadata": {
        "id": "7muuO4Cd_-3H"
      }
    },
    {
      "cell_type": "markdown",
      "source": [
        "| Data Science Tools    |\n",
        "| -------- |\n",
        "| Apache Spark |\n",
        "| TensorFlow |\n",
        "| Scikit-Learn |\n"
      ],
      "metadata": {
        "id": "xMacOhh3AkIS"
      }
    },
    {
      "cell_type": "markdown",
      "source": [
        "### Below are a few examples of evaluating arithmetic expressions in Python"
      ],
      "metadata": {
        "id": "Wo99DY8fBPQ9"
      }
    },
    {
      "cell_type": "code",
      "source": [
        "#This a simple arithmetic expression to mutiply then add integers\n",
        "\n",
        "print((3 * 4) + 5)\n"
      ],
      "metadata": {
        "colab": {
          "base_uri": "https://localhost:8080/"
        },
        "id": "08WJ82KDBZZQ",
        "outputId": "c40ba289-bcda-43ac-d24c-9da7af700741"
      },
      "execution_count": 1,
      "outputs": [
        {
          "output_type": "stream",
          "name": "stdout",
          "text": [
            "17\n"
          ]
        }
      ]
    },
    {
      "cell_type": "code",
      "source": [
        "# This will convert 200 minutes to hours by diving by 60\n",
        "\n",
        "minutes = 200\n",
        "hours = minutes / 60\n",
        "print(hours)\n"
      ],
      "metadata": {
        "colab": {
          "base_uri": "https://localhost:8080/"
        },
        "id": "l7gnczVZCGpQ",
        "outputId": "1d48443a-882b-4249-d78f-9ad70470a610"
      },
      "execution_count": 2,
      "outputs": [
        {
          "output_type": "stream",
          "name": "stdout",
          "text": [
            "3.3333333333333335\n"
          ]
        }
      ]
    },
    {
      "cell_type": "markdown",
      "source": [
        "**Objectives:**\n",
        "* Obj 1\n",
        "* Obj 2\n",
        "* Obj 3\n",
        "\n"
      ],
      "metadata": {
        "id": "5AABH7NnCb02"
      }
    },
    {
      "cell_type": "markdown",
      "source": [
        "## Author\n",
        "Varun Herlekar"
      ],
      "metadata": {
        "id": "iE9eSXUtC0-L"
      }
    }
  ]
}